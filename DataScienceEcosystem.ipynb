{
 "cells": [
  {
   "cell_type": "markdown",
   "id": "9aa39c7f-5d04-4110-9f40-e2dc93b3678f",
   "metadata": {},
   "source": [
    "# Data Science Tools and Ecosystem "
   ]
  },
  {
   "cell_type": "markdown",
   "id": "0bafdb97-356a-4d06-91e9-8e0a2c68c65b",
   "metadata": {},
   "source": [
    "**Objectives:**\n",
    "\n",
    " In this notebook We have :\n",
    "- Created a markdown cell with the title of the notebook. \n",
    "- Created a markdown cell for an introduction. \n",
    "- Created a markdown cell to list data science languages. \n",
    "- Created a markdown cell to list data science libraries. \n",
    "- Created a markdown cell with a table of Data Science tools. \n",
    "- Created a markdown cell introducing arithmetic expression examples. \n",
    "- Created a code cell to multiply and add numbers. \n",
    "- Created a code cell to convert minutes to hours. \n"
   ]
  },
  {
   "cell_type": "markdown",
   "id": "118b8d76-5002-4fc5-8e5e-2d4fbb00d8d4",
   "metadata": {},
   "source": [
    "In this notebook,Data science Tools and Ecosystem are summarized."
   ]
  },
  {
   "cell_type": "markdown",
   "id": "8edf3fef-3bc0-49ca-8666-9d7dbac18193",
   "metadata": {},
   "source": [
    "Some of the popular languages that Data Scientists use are:\n",
    "1. Python\n",
    "2. R\n",
    "3. Scala\n",
    "4. SQL\n",
    "5. Javascript\n",
    "6. Julia\n",
    "7. C++\n",
    "8. Java\n",
    "9. PHP\n",
    "10. Visual Basic"
   ]
  },
  {
   "cell_type": "markdown",
   "id": "509a5f3f-00f4-4bd2-b074-a2d3c216f445",
   "metadata": {
    "tags": []
   },
   "source": [
    "Some of the commonly used libraries used by Data Scientists include:\n",
    " 1. Pandas\n",
    " 2. NumPy\n",
    " 3. Tensorflow\n",
    " 4. SciKit-Learn\n",
    " 5. Keras\n",
    " 6. PyTorch\n",
    " 7. MatplotLib\n",
    " 8. Seaborn\n",
    "    \n",
    "    "
   ]
  },
  {
   "cell_type": "markdown",
   "id": "95d4a2d8-7960-41eb-8a99-928210cb0c62",
   "metadata": {},
   "source": [
    "|   Data Science tools   |\n",
    "| --- |\n",
    "|**Jupyter Notebooks** :  An interactive computing environment used for creating and sharing documents that contain live code, visualizations, and narrative text|\n",
    "|**RStudio**  :   An integrated development environment (IDE) designed for the R programming language, providing tools for coding, debugging, and data analysis|\n",
    "|**VScode**  :  A free open source editor for operations like debugging and task running operations|\n",
    "|**Watson Studio**: A fully integrated development environment for datascientists|\n"
   ]
  },
  {
   "cell_type": "markdown",
   "id": "5fab9af6-43a3-495f-a390-32903e50f9b6",
   "metadata": {},
   "source": [
    "### Below are a few examples of evaluating arithmetic expressions in Python\n",
    "\n",
    "1. Addition: 5 + 3 = 8 \n",
    "2. Subtraction: 10 - 4 = 6 \n",
    "3. Multiplication: 5 * 6 = 30 \n",
    "4. Division: 10 / 2 = 5 "
   ]
  },
  {
   "cell_type": "code",
   "execution_count": 6,
   "id": "a52fb64e-e8c1-4ed9-85a4-8a4874357b9c",
   "metadata": {
    "tags": []
   },
   "outputs": [
    {
     "name": "stdout",
     "output_type": "stream",
     "text": [
      "17\n"
     ]
    }
   ],
   "source": [
    "#Create a code cell to multiply and add numbers\n",
    "a = 3\n",
    "b = 4\n",
    "c =5\n",
    "#This a simple arithmetic expression to mutiply then add integers\n",
    "print ((a*b)+c)\n"
   ]
  },
  {
   "cell_type": "code",
   "execution_count": 13,
   "id": "aa1c2155-d64b-4c5c-93c6-9bc55f98ea2c",
   "metadata": {
    "tags": []
   },
   "outputs": [
    {
     "data": {
      "text/plain": [
       "'200 minutes is 3:20 hours'"
      ]
     },
     "execution_count": 13,
     "metadata": {},
     "output_type": "execute_result"
    }
   ],
   "source": [
    "#Create a code cell to convert minutes to hours\n",
    "def mins_to_hrs(mins):\n",
    "    #This will convert 200 minutes to hours by diving by 60\n",
    "    return divmod(mins,60)\n",
    "f\"200 minutes is {mins_to_hrs(200)[0]}:{mins_to_hrs(200)[1]} hours\"\n"
   ]
  },
  {
   "cell_type": "markdown",
   "id": "aa7fb1b7-0b59-4f87-8d33-f1be7a4aefd6",
   "metadata": {},
   "source": [
    "## Author ##\n",
    "  Himaani Srivatsava"
   ]
  },
  {
   "cell_type": "code",
   "execution_count": null,
   "id": "b50926b8-1987-4f64-b130-75397c3a6042",
   "metadata": {},
   "outputs": [],
   "source": []
  }
 ],
 "metadata": {
  "kernelspec": {
   "display_name": "Python",
   "language": "python",
   "name": "conda-env-python-py"
  },
  "language_info": {
   "codemirror_mode": {
    "name": "ipython",
    "version": 3
   },
   "file_extension": ".py",
   "mimetype": "text/x-python",
   "name": "python",
   "nbconvert_exporter": "python",
   "pygments_lexer": "ipython3",
   "version": "3.7.12"
  }
 },
 "nbformat": 4,
 "nbformat_minor": 5
}
