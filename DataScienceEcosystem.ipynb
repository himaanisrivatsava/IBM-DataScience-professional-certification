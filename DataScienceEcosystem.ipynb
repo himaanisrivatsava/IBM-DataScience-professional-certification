{
 "cells": [
  {
   "cell_type": "markdown",
   "id": "a5d3ab82-dd70-428f-8885-e215b1697bba",
   "metadata": {},
   "source": [
    "# Data Science Tools and Ecosystem"
   ]
  },
  {
   "cell_type": "markdown",
   "id": "5fbf57ba-8c85-4437-8a6f-175271e073f4",
   "metadata": {
    "tags": []
   },
   "source": [
    "**Objectives**\n",
    "In this notebook We have :\n",
    " - Created a markdown cell with the title of the notebook.\n",
    " - Created a markdown cell for an introduction.\n",
    " - Created a markdown cell to list data science languages.\n",
    " - Created a markdown cell to list data science libraries.\n",
    " - Created a markdown cell with a table of Data Science tools.\n",
    " - Created a markdown cell introducing arithmetic expression examples.\n",
    " - Created a code cell to multiply and add numbers.\n",
    " - Created a code cell to convert minutes to hours.\n"
   ]
  },
  {
   "cell_type": "markdown",
   "id": "1c97eb68-3f28-4c0c-aa95-4ab189787cfa",
   "metadata": {},
   "source": [
    "In this notebook,Data science Tools and Ecosystem are summarized."
   ]
  },
  {
   "cell_type": "markdown",
   "id": "431c5796-2c6d-477f-b8b5-03148f49b127",
   "metadata": {},
   "source": [
    "Some of the popular languages that Data Scientists use are:\n",
    " 1. Python\n",
    " 2. R\n",
    " 3. SQL\n",
    " 4. Scala\n",
    " 5. Java\n",
    " 6. C++\n",
    " 7. Julia\n",
    " 8. JavaScript\n",
    " 9. PHP\n",
    "10. Go\n",
    "11. Ruby\n",
    "12. Visual Basic"
   ]
  },
  {
   "cell_type": "markdown",
   "id": "2df2207a-8717-420c-8bd6-862806a04c43",
   "metadata": {},
   "source": [
    "Some of the commonly used libraries used by Data Scientists include:\n",
    "\n",
    "1. Pandas\n",
    "2. Numpy\n",
    "3. Matplotlib\n",
    "4. Seaborn\n",
    "5. Scikit-learn\n",
    "6. Keras\n",
    "7. TensorFlow\n",
    "8. PyTorch\n",
    "9. Apache Spark\n",
    "10. Vegas\n",
    "11. Big DL\n",
    "12. Ggplot2"
   ]
  },
  {
   "cell_type": "markdown",
   "id": "57cc180a-738a-4345-80a9-91810fde51ed",
   "metadata": {
    "tags": []
   },
   "source": [
    "|Data Science Tools|\n",
    "|---|\n",
    "|Jupyter Notebooks|\n",
    "|RStudio|\n",
    "|Anaconda|\n",
    "|Spyder|\n",
    "|zeppelin|"
   ]
  },
  {
   "cell_type": "markdown",
   "id": "d2f6157b-5afd-4dc5-a336-fa5dffa601da",
   "metadata": {},
   "source": [
    "### Below are a few examples of evaluating arithmetic expressions in Python"
   ]
  },
  {
   "cell_type": "markdown",
   "id": "3986619a-fe24-476e-bd2c-9cf59878030c",
   "metadata": {},
   "source": [
    "1. Addition: 5 + 3 = 8\n",
    "2. Subtraction: 10 - 4 = 6\n",
    "3. Multiplication: 5 * 6 = 30\n",
    "4. Division: 10 / 2 = 5"
   ]
  },
  {
   "cell_type": "code",
   "execution_count": 3,
   "id": "730277bb-c259-4040-9d7a-32613d33d3b9",
   "metadata": {
    "tags": []
   },
   "outputs": [
    {
     "name": "stdout",
     "output_type": "stream",
     "text": [
      "17\n"
     ]
    }
   ],
   "source": [
    "#Create a code cell to multiply and add numbers\n",
    "a = 3\n",
    "b = 4\n",
    "c =5\n",
    "#This a simple arithmetic expression to mutiply then add integers\n",
    "print ((a*b)+c)"
   ]
  },
  {
   "cell_type": "code",
   "execution_count": 12,
   "id": "f057f6a4-4d4a-415c-9954-116d18c865f4",
   "metadata": {
    "tags": []
   },
   "outputs": [
    {
     "name": "stdout",
     "output_type": "stream",
     "text": [
      "3.3333333333333335\n"
     ]
    }
   ],
   "source": [
    "#Create a code cell to convert minutes to hours\n",
    "mins = 200\n",
    "#This will convert 200 minutes to hours by diving by 60\n",
    "hours = mins/60\n",
    "print (hours)"
   ]
  },
  {
   "cell_type": "markdown",
   "id": "dcae2ab2-31b4-4cbd-be30-b2bda98550a9",
   "metadata": {},
   "source": [
    "## Author\n",
    "Himaani Srivatsava"
   ]
  },
  {
   "cell_type": "code",
   "execution_count": null,
   "id": "7cbcfae1-db38-4048-913e-9fcde2056918",
   "metadata": {},
   "outputs": [],
   "source": []
  }
 ],
 "metadata": {
  "kernelspec": {
   "display_name": "Python",
   "language": "python",
   "name": "conda-env-python-py"
  },
  "language_info": {
   "codemirror_mode": {
    "name": "ipython",
    "version": 3
   },
   "file_extension": ".py",
   "mimetype": "text/x-python",
   "name": "python",
   "nbconvert_exporter": "python",
   "pygments_lexer": "ipython3",
   "version": "3.7.12"
  },
  "toc-autonumbering": true,
  "toc-showcode": true,
  "toc-showmarkdowntxt": true
 },
 "nbformat": 4,
 "nbformat_minor": 5
}
